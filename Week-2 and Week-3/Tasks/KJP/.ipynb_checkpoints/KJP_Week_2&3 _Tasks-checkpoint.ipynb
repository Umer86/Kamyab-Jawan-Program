{
 "cells": [
  {
   "cell_type": "markdown",
   "metadata": {
    "collapsed": true,
    "pycharm": {
     "name": "#%% md\n"
    }
   },
   "source": [
    "# Kamyab Jawan Program\n",
    "\n",
    "### Name: Umer Farooq\n",
    "### Date: 21/03/2021\n",
    "### Batch: 3\n",
    "### Trade: Artificial Intelligence\n",
    "### Teachers: Mr. Najam Aziz, Mr. Sikandar Hayat\n",
    "### Work: Assignment 2 for Week 2 and 3"
   ]
  },
  {
   "cell_type": "markdown",
   "metadata": {
    "pycharm": {
     "name": "#%% md\n"
    }
   },
   "source": [
    "# LAB-1 TASKS:"
   ]
  },
  {
   "cell_type": "code",
   "execution_count": 2,
   "metadata": {
    "pycharm": {
     "name": "#%%\n"
    }
   },
   "outputs": [
    {
     "name": "stdout",
     "output_type": "stream",
     "text": [
      "Umer\n"
     ]
    }
   ],
   "source": [
    "# Task 1: Write a program to display your name on console.\n",
    "# print(\"Umer Farooq\")\n",
    "name = input(\"Enter your name: \")\n",
    "print(name)"
   ]
  },
  {
   "cell_type": "code",
   "execution_count": 3,
   "metadata": {
    "pycharm": {
     "name": "#%%\n"
    }
   },
   "outputs": [
    {
     "name": "stdout",
     "output_type": "stream",
     "text": [
      "Addition of two numbers is:  12\n"
     ]
    }
   ],
   "source": [
    "# Task 2: Write a program to add two numbers (5&7) and display its sum.\n",
    "a = int(input(\"Enter a number: \"))\n",
    "b = int(input(\"Enter another number: \"))\n",
    "print(\"Addition of two numbers is: \", a + b)"
   ]
  },
  {
   "cell_type": "code",
   "execution_count": 4,
   "metadata": {
    "pycharm": {
     "name": "#%%\n"
    }
   },
   "outputs": [
    {
     "name": "stdout",
     "output_type": "stream",
     "text": [
      "Product of two numbers is:  70\n"
     ]
    }
   ],
   "source": [
    "# Task 3: Write a program to multiply two numbers (10&8) and display its product\n",
    "a = int(input(\"Enter a number: \"))\n",
    "b = int(input(\"Enter another number: \"))\n",
    "print(\"Product of two numbers is: \", a * b)"
   ]
  },
  {
   "cell_type": "code",
   "execution_count": 5,
   "metadata": {
    "pycharm": {
     "name": "#%%\n"
    }
   },
   "outputs": [
    {
     "name": "stdout",
     "output_type": "stream",
     "text": [
      "Area of circle is:  78.5\n"
     ]
    }
   ],
   "source": [
    "# Task 4: Write a program to calculate area of a circle having its radius (r = 5).\n",
    "pi = 3.14\n",
    "radius = int(input(\"Enter radius to find area of circle: \"))\n",
    "area = pi * radius ** 2\n",
    "print(\"Area of circle is: \", area)"
   ]
  },
  {
   "cell_type": "code",
   "execution_count": 7,
   "metadata": {
    "pycharm": {
     "name": "#%%\n"
    }
   },
   "outputs": [
    {
     "name": "stdout",
     "output_type": "stream",
     "text": [
      "Area of ellipse is:  75.36\n"
     ]
    }
   ],
   "source": [
    "# Task 5: Write a program to calculate area of an ellipse having its axes (minor=4cm, major=6cm). area= pi*major*minor\n",
    "pi =3.14\n",
    "minor = int(input(\"Enter minor axis: \"))\n",
    "major = int(input(\"Enter major axis: \"))\n",
    "area = pi * minor * major\n",
    "print(\"Area of ellipse is: \", area)"
   ]
  },
  {
   "cell_type": "code",
   "execution_count": 10,
   "metadata": {
    "pycharm": {
     "name": "#%%\n"
    }
   },
   "outputs": [
    {
     "name": "stdout",
     "output_type": "stream",
     "text": [
      "Simple interest is:  440.0\n"
     ]
    }
   ],
   "source": [
    "# Task 6: Write a program to calculate simple interest for a given P=4000, T=2, R=5.5. (I = P*T*R/100).\n",
    "principle = int(input(\"Enter principle amount: \"))\n",
    "time = int(input(\"Enter time: \"))\n",
    "rate = float(input(\"Enter rate: \"))\n",
    "interest = principle * time * rate / 100\n",
    "print(\"Simple interest is: \", interest)"
   ]
  },
  {
   "cell_type": "markdown",
   "metadata": {
    "pycharm": {
     "name": "#%% md\n"
    }
   },
   "source": [
    "# LAB-2 TASKS:\n"
   ]
  },
  {
   "cell_type": "code",
   "execution_count": 15,
   "metadata": {
    "pycharm": {
     "name": "#%%\n"
    }
   },
   "outputs": [
    {
     "name": "stdout",
     "output_type": "stream",
     "text": [
      "Temperature in Celsius is 13.33 and in Kelvin is 286.48\n"
     ]
    }
   ],
   "source": [
    "# Task 1: Write a program that takes the temperature in Fahrenheit and convert it to Celsius And Kelvin.\n",
    "# fahrenheit to celcius: (C = (F - 32) * 5/9)\n",
    "# fahrenheit to kelvin: (K = (F + 459.67) * 5/9)\n",
    "f_val = int(input(\"Enter temperature in Fahrenheit: \"))\n",
    "def fahrenheit_to_celsius(f_val):\n",
    "    f = f_val\n",
    "    c = (f-32) * 5/9\n",
    "    return c\n",
    "\n",
    "def fahrenheit_to_kelvin(f_val):\n",
    "    f = f_val\n",
    "    k = (f+459.67) * 5/9\n",
    "    return k\n",
    "\n",
    "print(\"Temperature in Celsius is {:.2f} and in Kelvin is {:.2f}\".format(fahrenheit_to_celsius(f_val), fahrenheit_to_kelvin(f_val)))"
   ]
  },
  {
   "cell_type": "code",
   "execution_count": 34,
   "metadata": {
    "pycharm": {
     "name": "#%%\n"
    }
   },
   "outputs": [
    {
     "name": "stdout",
     "output_type": "stream",
     "text": [
      "Equation is:  43.66666666666667\n"
     ]
    }
   ],
   "source": [
    "# Task 2: Write the Python code that takes the integer a, b, c, d and e from the user and display the output according to the following equation\n",
    "a = int(input(\"Enter a number: \"))\n",
    "b = int(input(\"Enter another number: \"))\n",
    "c = int(input(\"Enter another number: \"))\n",
    "d = int(input(\"Enter another number: \"))\n",
    "e = int(input(\"Enter another number: \"))\n",
    "\n",
    "equation = ( (a**3) + (b**2) - d / b ) / a * (b + c * (e + a) / b) - 10\n",
    "print(\"Equation is: \", equation)"
   ]
  },
  {
   "cell_type": "code",
   "execution_count": 22,
   "metadata": {
    "pycharm": {
     "name": "#%%\n"
    }
   },
   "outputs": [
    {
     "name": "stdout",
     "output_type": "stream",
     "text": [
      "Integer variables are:  2 3 2.5\n"
     ]
    }
   ],
   "source": [
    "# Task 3: Write a program to declare two integer and one float variables then initialize them to 10, 15, and 12.6. Also print the variable values on the screen\n",
    "a = int(input(\"Enter a number: \"))\n",
    "b = int(input(\"Enter another number: \"))\n",
    "c = float(input(\"Enter another number: \"))\n",
    "print(\"Integer variables are: \", a, b, c)"
   ]
  },
  {
   "cell_type": "code",
   "execution_count": 32,
   "metadata": {
    "pycharm": {
     "name": "#%%\n"
    }
   },
   "outputs": [
    {
     "name": "stdout",
     "output_type": "stream",
     "text": [
      "In forward order:  1 2 3\n",
      "In reverse order:  3 2 1\n",
      "In forward order:  [1, 2, 3]\n",
      "In reverse order:  [3, 2, 1]\n"
     ]
    }
   ],
   "source": [
    "# Task 4: Write a python program to prompt the user to input 3 integer values and print these values in forward and reversed order\n",
    "a = int(input(\"Enter a number: \"))\n",
    "b = int(input(\"Enter another number: \"))\n",
    "c = int(input(\"Enter another number: \"))\n",
    "\n",
    "print(\"In forward order: \", a, b, c)\n",
    "print(\"In reverse order: \", c, b, a)\n",
    "\n",
    "# Using slicing technique\n",
    "numlist = []\n",
    "numlist.append(a)\n",
    "numlist.append(b)\n",
    "numlist.append(c)\n",
    "\n",
    "print(\"In forward order: \", numlist)\n",
    "# [ Initial : End : IndexJump ]\n",
    "#print(\"In reverse order: \", numlist[-1::-1])\n",
    "#print(\"In reverse order: \", numlist[::-1])\n",
    "numlist.reverse()\n",
    "print(\"In reverse order: \", numlist)\n"
   ]
  },
  {
   "cell_type": "code",
   "execution_count": 40,
   "metadata": {
    "pycharm": {
     "name": "#%%\n"
    }
   },
   "outputs": [
    {
     "name": "stdout",
     "output_type": "stream",
     "text": [
      "Before swapping a = 2 and b= 3\n",
      "After Swapping without third variable, a = 3 and b= 2\n",
      "After Swapping with third variable, a = 3 and b= 2\n"
     ]
    }
   ],
   "source": [
    "# Task 5: Write a program to swap two variables values with and without using third variables.\n",
    "# swap two variables values with using third variables.\n",
    "\n",
    "def swap(a, b):\n",
    "    a, b = b, a\n",
    "    print(\"After Swapping without third variable, a = {} and b= {}\".format(a, b))\n",
    "\n",
    "def swap_with_third_variable(a, b):\n",
    "    temp = a\n",
    "    a = b\n",
    "    b = temp\n",
    "    print(\"After Swapping with third variable, a = {} and b= {}\".format(a, b))\n",
    "\n",
    "a = int(input(\"Enter a number: \"))\n",
    "b = int(input(\"Enter another number: \"))\n",
    "print(\"Before swapping a = {} and b= {}\".format(a, b))\n",
    "swap(a, b)\n",
    "swap_with_third_variable(a, b)\n"
   ]
  },
  {
   "cell_type": "code",
   "execution_count": null,
   "metadata": {
    "pycharm": {
     "name": "#%%\n"
    }
   },
   "outputs": [],
   "source": []
  },
  {
   "cell_type": "markdown",
   "metadata": {},
   "source": []
  },
  {
   "cell_type": "code",
   "execution_count": null,
   "metadata": {},
   "outputs": [],
   "source": []
  },
  {
   "cell_type": "code",
   "execution_count": null,
   "metadata": {
    "pycharm": {
     "name": "#%%\n"
    }
   },
   "outputs": [],
   "source": []
  }
 ],
 "metadata": {
  "kernelspec": {
   "display_name": "Python 3 (ipykernel)",
   "language": "python",
   "name": "python3"
  },
  "language_info": {
   "codemirror_mode": {
    "name": "ipython",
    "version": 3
   },
   "file_extension": ".py",
   "mimetype": "text/x-python",
   "name": "python",
   "nbconvert_exporter": "python",
   "pygments_lexer": "ipython3",
   "version": "3.9.7"
  }
 },
 "nbformat": 4,
 "nbformat_minor": 1
}
