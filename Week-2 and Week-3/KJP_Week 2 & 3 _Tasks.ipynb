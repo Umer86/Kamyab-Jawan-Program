{
 "cells": [
  {
   "cell_type": "code",
   "execution_count": null,
   "id": "91c70127",
   "metadata": {},
   "outputs": [],
   "source": [
    "# **LetsGrowMore**\n",
    "\n",
    "---\n",
    "\n",
    "\n",
    "\n",
    "---\n",
    "# ***Data Science Internship***\n",
    "\n",
    "---\n",
    "\n",
    "\n",
    "\n",
    "---\n",
    "\n",
    "## `Author: UMER FAROOQ`\n",
    "## `Task Level: Beginner Level`\n",
    "## `Task Number: 1`\n",
    "## `Task Title: Iris Flower Classification`\n",
    "\n",
    "\n",
    "## `Language: Python`\n",
    "## `IDE: Google Colab`\n"
   ]
  }
 ],
 "metadata": {
  "kernelspec": {
   "display_name": "Python 3 (ipykernel)",
   "language": "python",
   "name": "python3"
  },
  "language_info": {
   "codemirror_mode": {
    "name": "ipython",
    "version": 3
   },
   "file_extension": ".py",
   "mimetype": "text/x-python",
   "name": "python",
   "nbconvert_exporter": "python",
   "pygments_lexer": "ipython3",
   "version": "3.9.7"
  }
 },
 "nbformat": 4,
 "nbformat_minor": 5
}
