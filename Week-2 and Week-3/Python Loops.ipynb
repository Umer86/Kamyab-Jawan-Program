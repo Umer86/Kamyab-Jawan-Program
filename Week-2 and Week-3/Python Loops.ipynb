{
 "cells": [
  {
   "cell_type": "markdown",
   "metadata": {},
   "source": [
    "### What are Loops\n",
    "<li>Loops allows the excuation of a statements or a group of statment multiple times.\n",
    "<br><li> In order to enter the loop there are certain Conditions define in the begining.\n",
    "<br><li>Once the condition become false the loop stops and the control moves out of the loop."
   ]
  },
  {
   "cell_type": "markdown",
   "metadata": {},
   "source": [
    "### While Loop\n",
    "Python While Loop is used to execute a block of statements repeatedly until a given condition is satisfied. And when the condition becomes false, the line immediately after the loop in the program is executed\n",
    "<br><b>Syntax:</b> \n",
    "<br>while expression:\n",
    "        <br><pre>statement(s)"
   ]
  },
  {
   "cell_type": "code",
   "execution_count": 8,
   "metadata": {},
   "outputs": [
    {
     "name": "stdout",
     "output_type": "stream",
     "text": [
      "The Count is: 1\n",
      "The Count is: 2\n",
      "The Count is: 3\n",
      "The Count is: 4\n",
      "The Count is: 5\n",
      "The Count is: 6\n",
      "The Count is: 7\n",
      "The Count is: 8\n",
      "The Count is: 9\n",
      "The Count is: 10\n",
      "Complate\n"
     ]
    }
   ],
   "source": [
    "i=0\n",
    "while(i<10):\n",
    "    print('The Count is:',i+1)\n",
    "    i=i+1\n",
    "print('Complate')"
   ]
  },
  {
   "cell_type": "code",
   "execution_count": null,
   "metadata": {},
   "outputs": [],
   "source": []
  },
  {
   "cell_type": "code",
   "execution_count": 9,
   "metadata": {},
   "outputs": [],
   "source": [
    "#Task Calculate the sum of odd natural numbers 1+3+5+7+……………. .+n using while loop. Take n as input from user."
   ]
  },
  {
   "cell_type": "code",
   "execution_count": 37,
   "metadata": {},
   "outputs": [
    {
     "name": "stdout",
     "output_type": "stream",
     "text": [
      "How many numbers you want to add: 4\n",
      "The sum of the first  4 add number is  16\n"
     ]
    }
   ],
   "source": [
    "num=int(input('How many numbers you want to add: '))\n",
    "i=1\n",
    "sum=0\n",
    "odd=1\n",
    "while(i<=num):\n",
    "    sum=sum+odd \n",
    "    i=i+1 \n",
    "    odd=odd+2\n",
    "print('The sum of the first ',num,'add number is ',sum)"
   ]
  },
  {
   "cell_type": "markdown",
   "metadata": {},
   "source": [
    "### List While Loop"
   ]
  },
  {
   "cell_type": "code",
   "execution_count": 45,
   "metadata": {},
   "outputs": [
    {
     "name": "stdout",
     "output_type": "stream",
     "text": [
      "How many numbers you add into list: 10\n",
      "list of add numbers is  [1, 3, 5, 7, 9, 11, 13, 15, 17, 19]\n"
     ]
    }
   ],
   "source": [
    "odd_List=[]\n",
    "num=int(input('How many numbers you add into list: '))\n",
    "i=1\n",
    "odd=1\n",
    "while(i<=num):\n",
    "    odd_List.append(odd)\n",
    "    i=i+1 \n",
    "    odd=odd+2\n",
    "print('list of add numbers is ',odd_List)"
   ]
  },
  {
   "cell_type": "code",
   "execution_count": 48,
   "metadata": {},
   "outputs": [
    {
     "name": "stdout",
     "output_type": "stream",
     "text": [
      "19\n",
      "17\n",
      "15\n",
      "13\n",
      "11\n",
      "9\n",
      "7\n",
      "5\n",
      "3\n",
      "1\n"
     ]
    }
   ],
   "source": [
    "\n",
    "# checks if list still\n",
    "# contains any element\n",
    "a = odd_List.copy()\n",
    "while a:\n",
    "    print(a.pop())"
   ]
  },
  {
   "cell_type": "code",
   "execution_count": 49,
   "metadata": {},
   "outputs": [
    {
     "name": "stdout",
     "output_type": "stream",
     "text": [
      "odd\n",
      "odd\n",
      "even\n",
      "odd\n",
      "even\n",
      "even\n",
      "odd\n"
     ]
    }
   ],
   "source": [
    "myList = [5, 7, 8, 3, 4, 2, 9]\n",
    "\n",
    "index = 0\n",
    "while index < len(myList):\n",
    "    element = myList[index]\n",
    "    if element % 2 == 0:\n",
    "        print('even')\n",
    "    else:\n",
    "        print('odd')\n",
    "    index += 1"
   ]
  },
  {
   "cell_type": "code",
   "execution_count": null,
   "metadata": {},
   "outputs": [],
   "source": []
  }
 ],
 "metadata": {
  "kernelspec": {
   "display_name": "Python 3",
   "language": "python",
   "name": "python3"
  },
  "language_info": {
   "codemirror_mode": {
    "name": "ipython",
    "version": 3
   },
   "file_extension": ".py",
   "mimetype": "text/x-python",
   "name": "python",
   "nbconvert_exporter": "python",
   "pygments_lexer": "ipython3",
   "version": "3.8.3"
  }
 },
 "nbformat": 4,
 "nbformat_minor": 4
}
