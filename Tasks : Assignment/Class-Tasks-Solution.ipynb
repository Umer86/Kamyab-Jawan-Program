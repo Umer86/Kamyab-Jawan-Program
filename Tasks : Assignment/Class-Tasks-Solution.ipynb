{
 "cells": [
  {
   "cell_type": "code",
   "execution_count": 1,
   "metadata": {},
   "outputs": [
    {
     "name": "stdout",
     "output_type": "stream",
     "text": [
      "White\n"
     ]
    }
   ],
   "source": [
    "# 4.\tWrite a program that take two numbers from the user and check whether the chess board squre are white and black.\n",
    "# Check wether the chess board square is white or black.\n",
    "def checking_chessiswhiteorblack(val1, val2):\n",
    "    int_val = val1\n",
    "    string_val = val2\n",
    "    if(int_val % 2 == 0):\n",
    "        if(string_val == \"a\" or string_val == \"c\" or string_val == \"e\" or string_val == \"g\"):\n",
    "            print(\"White\")\n",
    "        else:\n",
    "            print(\"black\")\n",
    "    else:\n",
    "        print(\"Black\")\n",
    "\n",
    "a = int(input(\"Enter the number of square of chess: \"))\n",
    "b = input(\"Enter the color of chess: \")\n",
    "checking_chessiswhiteorblack(a, b)"
   ]
  },
  {
   "cell_type": "code",
   "execution_count": null,
   "metadata": {},
   "outputs": [],
   "source": [
    "# Calculate GPA of each students\n",
    "def gpa_calculator():\n",
    "    print(\"Enter the number of subjects: \")\n",
    "    n = int(input())\n",
    "    print(\"Enter the marks of each subject: \")\n",
    "    marks = list(map(int, input().split()))\n",
    "    print(\"Enter the credits of each subject: \")\n",
    "    credits = list(map(int, input().split()))\n",
    "    total_credits = sum(credits)\n",
    "    # Find value/grade of each subject:\n",
    "    grade = []\n",
    "    for i in range(n):\n",
    "        if(marks[i] >= 90):\n",
    "            grade.append(\"A\")\n",
    "        elif(marks[i] >= 80):\n",
    "            grade.append(\"B\")\n",
    "        elif(marks[i] >= 70):\n",
    "            grade.append(\"C\")\n",
    "        elif(marks[i] >= 60):\n",
    "            grade.append(\"D\")\n",
    "        else:\n",
    "            grade.append(\"F\")\n",
    "     # Find value for each subjs corresponding to grade in that subject:\n",
    "    value = []\n",
    "    for i in range(n):\n",
    "        if(grade[i] == \"A\"):\n",
    "            value.append(4)\n",
    "        elif(grade[i] == \"B\"):\n",
    "            value.append(3.5)\n",
    "        elif(grade[i] == \"C\"):\n",
    "            value.append(3.0)\n",
    "        elif(grade[i] == \"D\"):\n",
    "            value.append(2.5)\n",
    "        else:\n",
    "            value.append(0)\n",
    "    total_marks = sum(marks)\n",
    "    gpa = total_marks / total_credits\n",
    "    print(\"GPA: \", gpa)"
   ]
  },
  {
   "cell_type": "code",
   "execution_count": 17,
   "outputs": [
    {
     "name": "stdout",
     "output_type": "stream",
     "text": [
      "Maximum value:  20\n",
      "Minimum value:  -10\n"
     ]
    }
   ],
   "source": [
    "# Check miximun and maximum value in the num_list\n",
    "def find_max_min(num_list):\n",
    "    max_value = num_list[0]\n",
    "    min_value = num_list[0]\n",
    "    for i in range(1, len(num_list)):\n",
    "        if(num_list[i] > max_value):\n",
    "            max_value = num_list[i]\n",
    "        elif(num_list[i] < min_value):\n",
    "            min_value = num_list[i]\n",
    "        else:\n",
    "\n",
    "    print(\"Maximum value: \", max_value)\n",
    "    print(\"Minimum value: \", min_value)\n",
    "\n",
    "# Find max and min in the given list\n",
    "num_list = [-1, -2, -7, -8, -9, -10, 2, 5, 10, 15, 20]\n",
    "find_max_min(num_list)"
   ],
   "metadata": {
    "collapsed": false,
    "pycharm": {
     "name": "#%%\n"
    }
   }
  }
 ],
 "metadata": {
  "interpreter": {
   "hash": "140d6ea09a641b8cdd96372a8c6168d5667f051a632e76bb9ef3e68ca0751385"
  },
  "kernelspec": {
   "display_name": "Python 3.9.7 ('base')",
   "language": "python",
   "name": "python3"
  },
  "language_info": {
   "codemirror_mode": {
    "name": "ipython",
    "version": 3
   },
   "file_extension": ".py",
   "mimetype": "text/x-python",
   "name": "python",
   "nbconvert_exporter": "python",
   "pygments_lexer": "ipython3",
   "version": "3.9.7"
  },
  "orig_nbformat": 4
 },
 "nbformat": 4,
 "nbformat_minor": 2
}