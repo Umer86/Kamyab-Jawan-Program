{
 "cells": [
  {
   "cell_type": "markdown",
   "metadata": {
    "collapsed": true,
    "pycharm": {
     "name": "#%% md\n"
    }
   },
   "source": []
  },
  {
   "cell_type": "markdown",
   "metadata": {
    "collapsed": false,
    "pycharm": {
     "name": "#%% md\n"
    }
   },
   "source": [
    "# Kamyab Jawan Program\n",
    "### Name: Umer Farooq\n",
    "### Date: 21/03/2021\n",
    "### Batch: 3\n",
    "### Trade: Artificial Intelligence\n",
    "### Teachers: Mr. Najam Aziz, Mr. Sikandar Hayat\n",
    "### Work: Assignment 2 for Week 2 and 3"
   ]
  },
  {
   "cell_type": "markdown",
   "metadata": {
    "collapsed": false,
    "pycharm": {
     "name": "#%% md\n"
    }
   },
   "source": [
    "# LAB-1 TASKS:"
   ]
  },
  {
   "cell_type": "code",
   "execution_count": 1,
   "metadata": {
    "collapsed": false,
    "pycharm": {
     "name": "#%%\n"
    }
   },
   "outputs": [
    {
     "name": "stdout",
     "output_type": "stream",
     "text": [
      "Umer Farooq\n"
     ]
    }
   ],
   "source": [
    "# Task 1: Write a program to display your name on console.\n",
    "# print(\"Umer Farooq\")\n",
    "name = input(\"Enter your name: \")\n",
    "print(name)"
   ]
  },
  {
   "cell_type": "code",
   "execution_count": null,
   "metadata": {
    "collapsed": false,
    "pycharm": {
     "name": "#%%\n"
    }
   },
   "outputs": [],
   "source": [
    "# Task 2: Write a program to add two numbers (5&7) and display its sum.\n",
    "a = int(input(\"Enter a number: \"))\n",
    "b = int(input(\"Enter another number: \"))\n",
    "print(\"Addition of two numbers is: \", a + b)"
   ]
  },
  {
   "cell_type": "code",
   "execution_count": null,
   "metadata": {
    "collapsed": false,
    "pycharm": {
     "name": "#%%\n"
    }
   },
   "outputs": [],
   "source": [
    "# Task 3: Write a program to multiply two numbers (10&8) and display its product\n",
    "a = int(input(\"Enter a number: \"))\n",
    "b = int(input(\"Enter another number: \"))\n",
    "print(\"Product of two numbers is: \", a * b)"
   ]
  },
  {
   "cell_type": "code",
   "execution_count": null,
   "metadata": {
    "collapsed": false,
    "pycharm": {
     "name": "#%%\n"
    }
   },
   "outputs": [],
   "source": [
    "# Task 4: Write a program to calculate area of a circle having its radius (r = 5).\n",
    "pi = 3.14\n",
    "radius = int(input(\"Enter radius to find area of circle: \"))\n",
    "area = pi * radius ** 2\n",
    "print(\"Area of circle is: \", area)"
   ]
  },
  {
   "cell_type": "code",
   "execution_count": null,
   "metadata": {
    "collapsed": false,
    "pycharm": {
     "name": "#%%\n"
    }
   },
   "outputs": [],
   "source": [
    "# Task 5: Write a program to calculate area of an ellipse having its axes (minor=4cm, major=6cm). area= pi*major*minor\n",
    "pi =3.14\n",
    "minor = int(input(\"Enter minor axis: \"))\n",
    "major = int(input(\"Enter major axis: \"))\n",
    "area = pi * minor * major\n",
    "print(\"Area of ellipse is: \", area)"
   ]
  },
  {
   "cell_type": "code",
   "execution_count": null,
   "metadata": {
    "collapsed": false,
    "pycharm": {
     "name": "#%%\n"
    }
   },
   "outputs": [],
   "source": [
    "# Task 6: Write a program to calculate simple interest for a given P=4000, T=2, R=5.5. (I = P*T*R/100).\n",
    "principle = int(input(\"Enter principle amount: \"))\n",
    "time = int(input(\"Enter time: \"))\n",
    "rate = float(input(\"Enter rate: \"))\n",
    "interest = principle * time * rate / 100\n",
    "print(\"Simple interest is: \", interest)"
   ]
  },
  {
   "cell_type": "markdown",
   "metadata": {
    "collapsed": false,
    "pycharm": {
     "name": "#%% md\n"
    }
   },
   "source": [
    "# LAB-2 TASKS: Data Types, Operators and Expressions in Python"
   ]
  },
  {
   "cell_type": "code",
   "execution_count": 2,
   "metadata": {
    "collapsed": false,
    "pycharm": {
     "name": "#%%\n"
    }
   },
   "outputs": [
    {
     "name": "stdout",
     "output_type": "stream",
     "text": [
      "Fahrenheit 56 in Celsius is 13.33 and in Kelvin is 286.48\n"
     ]
    }
   ],
   "source": [
    "# Task 1: Write a program that takes the temperature in Fahrenheit and convert it to Celsius And Kelvin.\n",
    "# fahrenheit to celcius: (C = (F - 32) * 5/9)\n",
    "# fahrenheit to kelvin: (K = (F + 459.67) * 5/9)\n",
    "def fahrenheit_to_celsius(f_val):\n",
    "    f = f_val\n",
    "    c = (f-32) * 5/9\n",
    "    return c\n",
    "\n",
    "def fahrenheit_to_kelvin(f_val):\n",
    "    f = f_val\n",
    "    k = (f+459.67) * 5/9\n",
    "    return k\n",
    "\n",
    "f_val = int(input(\"Enter temperature in Fahrenheit: \"))\n",
    "print(\"Fahrenheit {} in Celsius is {:.2f} and in Kelvin is {:.2f}\".format(f_val,fahrenheit_to_celsius(f_val), fahrenheit_to_kelvin(f_val)))"
   ]
  },
  {
   "cell_type": "code",
   "execution_count": null,
   "metadata": {
    "collapsed": false,
    "pycharm": {
     "name": "#%%\n"
    }
   },
   "outputs": [],
   "source": [
    "# Task 2: Write the Python code that takes the integer a, b, c, d and e from the user and display the output according to the following equation\n",
    "a = int(input(\"Enter a number: \"))\n",
    "b = int(input(\"Enter another number: \"))\n",
    "c = int(input(\"Enter another number: \"))\n",
    "d = int(input(\"Enter another number: \"))\n",
    "e = int(input(\"Enter another number: \"))\n",
    "\n",
    "equation = ( (a**3) + (b**2) - d / b ) / a * (b + c * (e + a) / b) - 10\n",
    "print(\"Equation is: \", equation)"
   ]
  },
  {
   "cell_type": "code",
   "execution_count": null,
   "metadata": {
    "collapsed": false,
    "pycharm": {
     "name": "#%%\n"
    }
   },
   "outputs": [],
   "source": [
    "# Task 3: Write a program to declare two integer and one float variables then initialize them to 10, 15, and 12.6. Also print the variable values on the screen\n",
    "a = int(input(\"Enter a number: \"))\n",
    "b = int(input(\"Enter another number: \"))\n",
    "c = float(input(\"Enter another number: \"))\n",
    "print(\"Integer variables are: \", a, b, c)"
   ]
  },
  {
   "cell_type": "code",
   "execution_count": 6,
   "metadata": {
    "collapsed": false,
    "pycharm": {
     "name": "#%%\n"
    }
   },
   "outputs": [
    {
     "name": "stdout",
     "output_type": "stream",
     "text": [
      "In forward order:  2 3 4\n",
      "In reverse order:  4 3 2\n",
      "In forward order:  [2, 3, 4]\n",
      "In reverse order:  [4, 3, 2]\n"
     ]
    }
   ],
   "source": [
    "# Task 4: Write a python program to prompt the user to input 3 integer values and print these values in forward and reversed order\n",
    "a = int(input(\"Enter a number: \"))\n",
    "b = int(input(\"Enter another number: \"))\n",
    "c = int(input(\"Enter another number: \"))\n",
    "\n",
    "print(\"In forward order: \", a, b, c)\n",
    "print(\"In reverse order: \", c, b, a)\n",
    "\n",
    "# Using slicing technique\n",
    "numlist = []\n",
    "numlist.append(a)\n",
    "numlist.append(b)\n",
    "numlist.append(c)\n",
    "\n",
    "print(\"In forward order: \", numlist)\n",
    "# [ Initial : End : IndexJump ]\n",
    "print(\"In reverse order: \", numlist[-1::-1])\n",
    "#print(\"In reverse order: \", numlist[::-1])\n",
    "#numlist.reverse()\n",
    "#print(\"In reverse order: \", numlist)"
   ]
  },
  {
   "cell_type": "code",
   "execution_count": 7,
   "metadata": {
    "collapsed": false,
    "pycharm": {
     "name": "#%%\n"
    }
   },
   "outputs": [
    {
     "name": "stdout",
     "output_type": "stream",
     "text": [
      "Before swapping a = 5 and b= 6 \n",
      "\n",
      "After Swapping without third variable, a = 6 and b= 5\n",
      "After Swapping with third variable, a = 6 and b= 5\n"
     ]
    }
   ],
   "source": [
    "# Task 5: Write a program to swap two variables values with and without using third variables.\n",
    "# swap two variables values with using third variables.\n",
    "\n",
    "def swap(a, b):\n",
    "    a, b = b, a\n",
    "    print(\"After Swapping without third variable, a = {} and b= {}\".format(a, b))\n",
    "\n",
    "def swap_with_third_variable(a, b):\n",
    "    temp = a\n",
    "    a = b\n",
    "    b = temp\n",
    "    print(\"After Swapping with third variable, a = {} and b= {}\".format(a, b))\n",
    "\n",
    "a = int(input(\"Enter a number: \"))\n",
    "b = int(input(\"Enter another number: \"))\n",
    "print(\"Before swapping a = {} and b= {} \\n\".format(a, b))\n",
    "swap(a, b)\n",
    "swap_with_third_variable(a, b)"
   ]
  },
  {
   "cell_type": "markdown",
   "metadata": {
    "collapsed": false
   },
   "source": [
    "# LAB 3 TASKS:\tIntroduction to Relational & Logical Operators and intro of IF Conditional statement"
   ]
  },
  {
   "cell_type": "markdown",
   "metadata": {
    "collapsed": false
   },
   "source": [
    "1. Display the largest among three numbers using if else statement"
   ]
  },
  {
   "cell_type": "code",
   "execution_count": 2,
   "metadata": {
    "collapsed": false,
    "pycharm": {
     "name": "#%%\n"
    }
   },
   "outputs": [
    {
     "name": "stdout",
     "output_type": "stream",
     "text": [
      "First number is: 2, Second number is: 3, Third number is: 1\n",
      "Largest number is:  3\n"
     ]
    }
   ],
   "source": [
    "def max_num(num1, num2, num3):\n",
    "    if num1 > num2 and num1 > num3:\n",
    "        print(\"Largest number is: \", num1)\n",
    "    elif num2 > num1 and num2 > num3:\n",
    "        print(\"Largest number is: \", num2)\n",
    "    else:\n",
    "        print(\"Largest number is: \", num3)\n",
    "\n",
    "a = int(input(\"Enter 1st number: \"))\n",
    "b = int(input(\"Enter 2nd number: \"))\n",
    "c = int(input(\"Enter 3rd number: \"))\n",
    "\n",
    "print(\"First number is: {}, Second number is: {}, Third number is: {}\".format(a, b, c))\n",
    "max_num(a,b,c)"
   ]
  },
  {
   "cell_type": "markdown",
   "metadata": {
    "collapsed": false
   },
   "source": [
    "2. Check whether a number is even or odd using ternary operator\n",
    "https://www.geeksforgeeks.org/ternary-operator-in-python/\n",
    "\n",
    "## Ternary Operator:\n",
    "\n",
    "Ternary operators are also known as conditional expressions are operators that evaluate something based on a condition being true or false.\n",
    "\n",
    "It simply allows testing a condition in a single line replacing the multiline if-else making the code compact.\n",
    "\n",
    "## Syntax:\n",
    "\n",
    "For Simple if-else:\n",
    "\n",
    "value_if_true if condition else value_if_false\n",
    "\n",
    "For Multiple if-else:\n",
    "\n",
    "'1' if x else '2' if y else '3' evaluates the condition from left to right, i.e., '1' if x else ('2' if y else '3')"
   ]
  },
  {
   "cell_type": "code",
   "execution_count": 8,
   "metadata": {
    "collapsed": false,
    "pycharm": {
     "name": "#%%\n"
    }
   },
   "outputs": [
    {
     "name": "stdout",
     "output_type": "stream",
     "text": [
      "2 is even\n"
     ]
    }
   ],
   "source": [
    "def even_odd(num):\n",
    "    #return \"Even\" if num % 2 == 0 else \"Odd\"\n",
    "    print(num, \"is even\") if num % 2 == 0 else print(num, \"is odd.\")\n",
    "\n",
    "val = int(input(\"Enter a number: \"))\n",
    "even_odd(val)"
   ]
  },
  {
   "cell_type": "markdown",
   "metadata": {
    "collapsed": false
   },
   "source": [
    "3.\tCheck the greater of two numbers using ternary operator?"
   ]
  },
  {
   "cell_type": "code",
   "execution_count": 9,
   "metadata": {
    "collapsed": false,
    "pycharm": {
     "name": "#%%\n"
    }
   },
   "outputs": [
    {
     "name": "stdout",
     "output_type": "stream",
     "text": [
      "3 is greater\n"
     ]
    }
   ],
   "source": [
    "def greater_num(num1, num2):\n",
    "    print(num1,\"is greater\") if num1 > num2 else print(num2, \"is greater\")\n",
    "\n",
    "val_1 = int(input(\"Enter a number: \"))\n",
    "val_2 = int(input(\"Enter another number: \"))\n",
    "greater_num(val_1, val_2)"
   ]
  },
  {
   "cell_type": "markdown",
   "metadata": {
    "collapsed": false
   },
   "source": [
    "4.\tWrite a MarksSheet program, input 5 subject marks from user and show data on screen, with percentage, grade and average marks (Assume total marks = 100)."
   ]
  },
  {
   "cell_type": "code",
   "execution_count": 14,
   "metadata": {
    "collapsed": false,
    "pycharm": {
     "name": "#%%\n"
    }
   },
   "outputs": [
    {
     "name": "stdout",
     "output_type": "stream",
     "text": [
      "Marksheet: \n",
      "Subject 1: 12\n",
      "Subject 2: 15\n",
      "Subject 3: 18\n",
      "Subject 4: 20\n",
      "Subject 5: 16\n",
      "Total Marks: 100\n",
      "Marks obtianed: 81\n",
      "Percentage: 81.0%\n",
      "Grade: A\n",
      "Average Marks: 16.2\n"
     ]
    }
   ],
   "source": [
    "def marksheet_():\n",
    "    total_marks = 100\n",
    "    marks = []\n",
    "    for i in range(5):\n",
    "        marks.append(int(input(\"Enter marks: \")))\n",
    "    print(\"Marksheet: \")\n",
    "    for i in range(len(marks)):\n",
    "        print(\"Subject {}: {}\".format(i+1, marks[i]))\n",
    "    print(\"Total Marks: {}\".format(total_marks))\n",
    "    obt_marks= sum(marks)\n",
    "    print(\"Marks obtained: {}\".format(obt_marks))\n",
    "    percentage = sum(marks)/total_marks*100\n",
    "    print(\"Percentage: {}%\".format(percentage))\n",
    "    print(\"Grade: {}\".format(\"A+\" if percentage >= 90 else \"A\" if percentage >= 80 else \"B\" if percentage >= 70 else \"C\" if percentage >= 60 else \"D\" if percentage >= 50 else \"F\"))\n",
    "    print(\"Average Marks: {}\".format(sum(marks)/5))\n",
    "\n",
    "marksheet_()"
   ]
  },
  {
   "cell_type": "markdown",
   "metadata": {
    "collapsed": false
   },
   "source": [
    "5.\tWrite a python program that takes two operands and one operator from the user, the program should implement basic arithmetic operations – sum, average, product, difference, quotient, remainder, and, or and not of given numbers etc"
   ]
  },
  {
   "cell_type": "code",
   "execution_count": 14,
   "metadata": {
    "collapsed": false,
    "pycharm": {
     "name": "#%%\n"
    }
   },
   "outputs": [
    {
     "name": "stdout",
     "output_type": "stream",
     "text": [
      "You have entered: 4 and 2 and selected operator: avg\n",
      "Result: 3.0\n"
     ]
    }
   ],
   "source": [
    "def basic_calc(op1, op2, opertn):\n",
    "    if opertn == \"+\":\n",
    "        summ = op1 + op2\n",
    "        return summ\n",
    "    elif opertn == \"avg\":\n",
    "        avg = (op1+op2)/2\n",
    "        return avg\n",
    "    elif opertn == \"-\":\n",
    "        return op1 - op2\n",
    "    elif opertn == \"*\":\n",
    "        return op1 * op2\n",
    "    elif opertn == \"/\":\n",
    "        return op1 / op2\n",
    "    elif opertn == \"//\":\n",
    "        return op1 // op2\n",
    "    elif opertn == \"%\":\n",
    "        return op1 % op2\n",
    "    elif opertn == \"&\":\n",
    "        return op1 & op2\n",
    "    elif opertn == \"|\":\n",
    "        return op1 | op2\n",
    "    elif opertn == \"~\":\n",
    "        return \"Not of {} is {} and Not of {} is {}\".format(op1, ~ op1, op2, ~ op2)\n",
    "    else:\n",
    "        return \"Invalid operator\"\n",
    "\n",
    "a = int(input(\"Enter first number: \"))\n",
    "b = int(input(\"Enter second number: \"))\n",
    "operand = input(\"Enter operator: \")\n",
    "\n",
    "print(\"You have entered: {} and {} and selected operator: {}\".format(a, b, operand))\n",
    "print(\"Result: {}\".format(basic_calc(a, b, operand)))"
   ]
  },
  {
   "cell_type": "markdown",
   "metadata": {
    "collapsed": false
   },
   "source": [
    "6.\tWrite a program that asks a number and test the number whether it is multiple of 5 or not, divisible by 7 but not by eleven. (all three conditions should match)"
   ]
  },
  {
   "cell_type": "code",
   "execution_count": 19,
   "metadata": {
    "collapsed": false,
    "pycharm": {
     "name": "#%%\n"
    }
   },
   "outputs": [
    {
     "name": "stdout",
     "output_type": "stream",
     "text": [
      "Number 1575 is multiple of 5 and 7 but not by 11\n"
     ]
    }
   ],
   "source": [
    "def multiple_of_5_and_7(num):\n",
    "    if num % 5 == 0:\n",
    "        if num % 7 == 0:\n",
    "            if num % 11 != 0:\n",
    "                return \"Number {} is multiple of 5 and 7 but not by 11\".format(num)\n",
    "            else:\n",
    "                return \"Number {} is multiple of 5 and 7 and by 11\".format(num)\n",
    "        else:\n",
    "            return \"Number {} is multiple of 5 but not by 7\".format(num)\n",
    "    else:\n",
    "        return \"Number {} is not multiple of 5\".format(num)\n",
    "\n",
    "a = int(input(\"Enter a number: \"))\n",
    "print(multiple_of_5_and_7(a))"
   ]
  },
  {
   "cell_type": "markdown",
   "metadata": {
    "collapsed": false
   },
   "source": [
    "7.\tWrite a python program to input angles of a triangle and check whether triangle is valid or not.A triangle is valid if sum of its two sides is greater than the third side. If three sides are a, b and c, then three conditions should be met.\n",
    "\n",
    "\n",
    "\n",
    "* 1. a + b > c\n",
    "* 2. a + c > b\n",
    "* 3. b + c > a"
   ]
  },
  {
   "cell_type": "code",
   "execution_count": 22,
   "metadata": {
    "collapsed": false,
    "pycharm": {
     "name": "#%%\n"
    }
   },
   "outputs": [
    {
     "name": "stdout",
     "output_type": "stream",
     "text": [
      "Triangle is valid\n"
     ]
    }
   ],
   "source": [
    "def check_triangle(a , b , c):\n",
    "    if a + b > c and a + c > b and b + c > a:\n",
    "        return \"Triangle is valid\"\n",
    "    else:\n",
    "        return \"Triangle is invalid\"\n",
    "\n",
    "val1 = int(input(\"Enter first side: \"))\n",
    "val2 = int(input(\"Enter second side: \"))\n",
    "val3 = int(input(\"Enter third side: \"))\n",
    "print(check_triangle(val1, val2, val3))"
   ]
  },
  {
   "cell_type": "markdown",
   "metadata": {
    "collapsed": false
   },
   "source": [
    "8.\tCheck whether the entered character is vowel or consonant?"
   ]
  },
  {
   "cell_type": "code",
   "execution_count": 2,
   "metadata": {
    "collapsed": false,
    "pycharm": {
     "name": "#%%\n"
    }
   },
   "outputs": [
    {
     "name": "stdout",
     "output_type": "stream",
     "text": [
      "The character d is a consonant\n"
     ]
    }
   ],
   "source": [
    "def check_vowel_or_consonant(char, lst_vowels):\n",
    "    if char in lst_vowels:\n",
    "        print(\"The character {} is a vowel\".format(char))\n",
    "    else:\n",
    "        print(\"The character {} is a consonant\".format(char))\n",
    "\n",
    "val = input(\"Enter a character: \")\n",
    "list_of_vowels = [\"a\", \"e\", \"i\", \"o\", \"u\", \"A\", \"E\", \"I\", \"O\", \"U\"]\n",
    "check_vowel_or_consonant(val, list_of_vowels)"
   ]
  },
  {
   "cell_type": "markdown",
   "metadata": {},
   "source": [
    "9.  Write a program to produce the output as in table format.\n",
    "\n",
    "x \t\ty \t\texpressions \t\tresults \n",
    "6\t |\t3 \t| \tx=y+3 \t\t| \tx=6 \n",
    "6 \t| \t3 \t| \tx=y-2 \t\t| \tx=1 \n",
    "6 \t| \t3 \t| \tx=y*5 \t\t| \tx=15 \n",
    "6 \t| \t3 \t| \tx=x/y \t\t| \tx=2 \n",
    "6 \t| \t3 \t| \tx=x%y \t| \tx=0\n",
    "6 \t| \t3 \t| \tx=x&y \t| \tx=2\n"
   ]
  },
  {
   "cell_type": "code",
   "execution_count": 8,
   "metadata": {
    "collapsed": false,
    "pycharm": {
     "name": "#%%\n"
    }
   },
   "outputs": [
    {
     "name": "stdout",
     "output_type": "stream",
     "text": [
      "You have entered: 5 and 8 and selected operator: -\n",
      "Result: -3\n"
     ]
    }
   ],
   "source": [
    "def expression_results():\n",
    "    "
   ]
  }
 ],
 "metadata": {
  "kernelspec": {
   "display_name": "Python 3",
   "language": "python",
   "name": "python3"
  },
  "language_info": {
   "codemirror_mode": {
    "name": "ipython",
    "version": 3
   },
   "file_extension": ".py",
   "mimetype": "text/x-python",
   "name": "python",
   "nbconvert_exporter": "python",
   "pygments_lexer": "ipython3",
   "version": "3.9.7"
  }
 },
 "nbformat": 4,
 "nbformat_minor": 0
}
