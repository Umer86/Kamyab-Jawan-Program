{
 "cells": [
  {
   "cell_type": "markdown",
   "metadata": {},
   "source": [
    "# Kamyab Jawan Program\n",
    "### Name: Umer Farooq\n",
    "### Date: 21/03/2021\n",
    "### Batch: 3\n",
    "### Trade: Artificial Intelligence\n",
    "### Teachers: Mr. Najam Aziz, Mr. Sikandar Hayat\n",
    "### Work: Assignment 1 for Week 1"
   ]
  },
  {
   "cell_type": "code",
   "execution_count": 1,
   "metadata": {},
   "outputs": [
    {
     "name": "stdout",
     "output_type": "stream",
     "text": [
      "Addition of two numbers:  5\n"
     ]
    }
   ],
   "source": [
    "# Task 1. Add two numbers:\n",
    "def add_two_numbers(a, b):\n",
    "    return a + b\n",
    "\n",
    "a = int(input(\"Enter first number: \"))\n",
    "b = int(input(\"Enter second number: \"))\n",
    "print(\"Addition of two numbers: \", add_two_numbers(a, b))"
   ]
  },
  {
   "cell_type": "code",
   "execution_count": 2,
   "metadata": {},
   "outputs": [
    {
     "name": "stdout",
     "output_type": "stream",
     "text": [
      "Square root of a number:  2.23606797749979\n"
     ]
    }
   ],
   "source": [
    "# Task 2. Find square root for a positive number:\n",
    "def square_root(a):\n",
    "    return a ** 0.5\n",
    "\n",
    "num = int(input(\"Enter a number: \"))\n",
    "print(\"Square root of a number: \", square_root(num))"
   ]
  },
  {
   "cell_type": "code",
   "execution_count": 3,
   "metadata": {},
   "outputs": [
    {
     "name": "stdout",
     "output_type": "stream",
     "text": [
      "Temperature in Fahrenheit:  99.5\n"
     ]
    }
   ],
   "source": [
    "# Task 3. Python Program to Convert Celsius To Fahrenheit:\n",
    "def celsius_to_fahrenheit(c):\n",
    "    f = (c * 9/5) + 32\n",
    "    return f\n",
    "\n",
    "c = float(input(\"Enter a temperature in Celsius: \"))\n",
    "print(\"Temperature in Fahrenheit: \", celsius_to_fahrenheit(c))"
   ]
  },
  {
   "cell_type": "code",
   "execution_count": 4,
   "metadata": {},
   "outputs": [
    {
     "name": "stdout",
     "output_type": "stream",
     "text": [
      "Area of a triangle using Herons formula:  14.696938456699069\n"
     ]
    }
   ],
   "source": [
    "# Task 4. Find the area of a triangle that has three different side using Herons formula:\n",
    "def area_triangle(a, b, c):\n",
    "    s = (a + b + c) / 2\n",
    "    area = (s * (s - a) * (s - b) * (s - c)) ** 0.5\n",
    "    return area\n",
    "\n",
    "a = int(input(\"Enter the first side a: \"))\n",
    "b = int(input(\"Enter the second side b: \"))\n",
    "c = int(input(\"Enter the third side c: \"))\n",
    "\n",
    "print(\"Area of a triangle using Herons formula: \", area_triangle(a, b, c))"
   ]
  },
  {
   "cell_type": "code",
   "execution_count": 5,
   "metadata": {},
   "outputs": [
    {
     "name": "stdout",
     "output_type": "stream",
     "text": [
      "Product of two numbers is:  80\n"
     ]
    }
   ],
   "source": [
    "# Task 5. Write a program to multiply two numbers (10&8) and display its product:\n",
    "a = int(input(\"Enter a number: \"))\n",
    "b = int(input(\"Enter another number: \"))\n",
    "print(\"Product of two numbers is: \", a * b)"
   ]
  },
  {
   "cell_type": "code",
   "execution_count": 6,
   "metadata": {},
   "outputs": [
    {
     "name": "stdout",
     "output_type": "stream",
     "text": [
      "Area of circle is:  78.5\n"
     ]
    }
   ],
   "source": [
    "# Task 6. Write a program to calculate area of a circle having its radius (r = 5):\n",
    "pi = 3.14\n",
    "radius = int(input(\"Enter radius to find area of circle: \"))\n",
    "area = pi * radius ** 2\n",
    "print(\"Area of circle is: \", area)"
   ]
  },
  {
   "cell_type": "code",
   "execution_count": 7,
   "metadata": {},
   "outputs": [
    {
     "name": "stdout",
     "output_type": "stream",
     "text": [
      "Simple interest is:  440.0\n"
     ]
    }
   ],
   "source": [
    "# Task 7. Write a program to calculate simple interest for a given P=4000, T=2, R=5.5. (I = P*T*R/100):\n",
    "principle = int(input(\"Enter principle amount: \"))\n",
    "time = int(input(\"Enter time: \"))\n",
    "rate = float(input(\"Enter rate: \"))\n",
    "interest = principle * time * rate / 100\n",
    "print(\"Simple interest is: \", interest)"
   ]
  }
 ],
 "metadata": {
  "interpreter": {
   "hash": "140d6ea09a641b8cdd96372a8c6168d5667f051a632e76bb9ef3e68ca0751385"
  },
  "kernelspec": {
   "display_name": "Python 3.9.7 ('base')",
   "language": "python",
   "name": "python3"
  },
  "language_info": {
   "codemirror_mode": {
    "name": "ipython",
    "version": 3
   },
   "file_extension": ".py",
   "mimetype": "text/x-python",
   "name": "python",
   "nbconvert_exporter": "python",
   "pygments_lexer": "ipython3",
   "version": "3.9.7"
  },
  "orig_nbformat": 4
 },
 "nbformat": 4,
 "nbformat_minor": 2
}
