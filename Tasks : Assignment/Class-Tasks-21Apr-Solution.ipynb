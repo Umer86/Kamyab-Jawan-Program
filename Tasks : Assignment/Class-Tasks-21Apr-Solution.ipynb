{
 "cells": [
  {
   "cell_type": "code",
   "execution_count": 3,
   "metadata": {
    "collapsed": true
   },
   "outputs": [
    {
     "name": "stdout",
     "output_type": "stream",
     "text": [
      "The roots are real and different\n",
      "The first root is:  -0.2928932188134524\n",
      "The second root is:  -1.7071067811865475\n"
     ]
    }
   ],
   "source": [
    "# Write a program to find the root of quadratic equation\n",
    "def quadratic_equ(a,b,c):\n",
    "    # Calculate determinant d\n",
    "    d = (b**2) - (4*a*c)\n",
    "    if d > 0:\n",
    "        r1 = (-b + (d**0.5))/(2*a)\n",
    "        r2 = (-b - (d**0.5))/(2*a)\n",
    "        print(\"The roots are real and different\")\n",
    "        print(\"The first root is: \", r1)\n",
    "        print(\"The second root is: \", r2)\n",
    "    elif d == 0:\n",
    "        r1 = r2 = (-b)/(2*a)\n",
    "        print(\"The roots are real\")\n",
    "        print(\"The roots are: \", r1)\n",
    "    else:\n",
    "        if d < 0:\n",
    "            real_root = -b / (2 * a)\n",
    "            img_root = sqrt(-d) / (2*a) # (-d ** 0.5)\n",
    "            print(\"The roots are imaginary:\")\n",
    "            print(\"The real root is: \", real_root)\n",
    "            print(\"The imaginary root is: \", img_root)\n",
    "\n",
    "\n",
    "a = int(input(\"Enter value of a: \"))\n",
    "b = int(input(\"Enter value of b: \"))\n",
    "c = int(input(\"Enter value of c: \"))\n",
    "quadratic_equ(a,b,c)"
   ]
  },
  {
   "cell_type": "code",
   "execution_count": 4,
   "metadata": {},
   "outputs": [
    {
     "data": {
      "text/plain": [
       "False"
      ]
     },
     "execution_count": 4,
     "metadata": {},
     "output_type": "execute_result"
    }
   ],
   "source": [
    "# Create a function with prime_checker() that returns true or false based on number\n",
    "def prime_checking(num):\n",
    "    if num > 1:\n",
    "        for i in range(2, num):\n",
    "            if (num % i) == 0:\n",
    "                # This means that num is not a prime number\n",
    "                return False\n",
    "        else:\n",
    "            # This means that the number is prime\n",
    "            return True\n",
    "    else:\n",
    "        return False\n",
    "\n",
    "prime_checking(9)"
   ]
  },
  {
   "cell_type": "code",
   "execution_count": null,
   "metadata": {},
   "outputs": [],
   "source": [
    "# Write a program that prints all prime numbers between 2 and 1000 inclusive\n",
    "def prime_numbers():\n",
    "    for num in range(2,1001):\n",
    "        if prime_checking(num):\n",
    "            print(num)\n",
    "\n",
    "prime_numbers()    "
   ]
  },
  {
   "cell_type": "code",
   "execution_count": null,
   "metadata": {},
   "outputs": [],
   "source": [
    "# Write a function to find the Perfect Number\n",
    "def perfect_number()"
   ]
  }
 ],
 "metadata": {
  "kernelspec": {
   "display_name": "Python 3",
   "language": "python",
   "name": "python3"
  },
  "language_info": {
   "codemirror_mode": {
    "name": "ipython",
    "version": 3
   },
   "file_extension": ".py",
   "mimetype": "text/x-python",
   "name": "python",
   "nbconvert_exporter": "python",
   "pygments_lexer": "ipython3",
   "version": "3.9.7"
  }
 },
 "nbformat": 4,
 "nbformat_minor": 0
}