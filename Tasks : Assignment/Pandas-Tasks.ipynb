{
 "cells": [
  {
   "cell_type": "markdown",
   "id": "8f2ec4c4",
   "metadata": {},
   "source": [
    "A pandas series is a one-dimensional data structure that comprises of a key-value pair. It is similar to a python dictionary, except it provides more freedom to manipulate and edit the data. <br> A pandas dataframe is a two-dimensional data-structure that can be thought of as a spreadsheet. A dataframe can also be thought of as a combination of two or more series"
   ]
  },
  {
   "cell_type": "markdown",
   "id": "3bdc8b2b",
   "metadata": {},
   "source": [
    "\n",
    "Task 1:  Write a program to create a Series by predefined list using Pandas"
   ]
  },
  {
   "cell_type": "code",
   "execution_count": 1,
   "id": "5565472b",
   "metadata": {},
   "outputs": [
    {
     "name": "stdout",
     "output_type": "stream",
     "text": [
      "0    1\n",
      "1    2\n",
      "2    3\n",
      "dtype: int64\n"
     ]
    }
   ],
   "source": [
    "import pandas as pd\n",
    "list=[1,2,3]\n",
    "a1=pd.Series(list)\n",
    "print(a1) \n"
   ]
  },
  {
   "cell_type": "markdown",
   "id": "a2617ded",
   "metadata": {},
   "source": [
    "Task 2:Write a program to create a Series using Pandas? "
   ]
  },
  {
   "cell_type": "code",
   "execution_count": 3,
   "id": "8e0aab11",
   "metadata": {},
   "outputs": [
    {
     "name": "stdout",
     "output_type": "stream",
     "text": [
      "0    1\n",
      "1    2\n",
      "2    3\n",
      "dtype: int64\n"
     ]
    }
   ],
   "source": [
    "a= pd.Series([1,2,3])\n",
    "print(a) \n",
    "\n"
   ]
  },
  {
   "cell_type": "markdown",
   "id": "eadb4ef5",
   "metadata": {},
   "source": [
    "Task 3: Write a program to create a series by giving \n",
    "specific indexing like lowercase alpha and change the datatype of elements\n"
   ]
  },
  {
   "cell_type": "code",
   "execution_count": 4,
   "id": "f9756585",
   "metadata": {},
   "outputs": [
    {
     "name": "stdout",
     "output_type": "stream",
     "text": [
      "a    2.0\n",
      "b    3.0\n",
      "c    5.0\n",
      "d    4.0\n",
      "dtype: float64\n"
     ]
    }
   ],
   "source": [
    "a2=pd.Series([2,3,5,4], index=['a','b','c','d'], dtype=float)\n",
    "print(a2) \n"
   ]
  },
  {
   "cell_type": "markdown",
   "id": "edb69c9d",
   "metadata": {},
   "source": [
    "Task 4: Write a program to Create a Series Using Dictionary"
   ]
  },
  {
   "cell_type": "code",
   "execution_count": 5,
   "id": "ef6eaa87",
   "metadata": {},
   "outputs": [
    {
     "name": "stdout",
     "output_type": "stream",
     "text": [
      "a    1\n",
      "b    2\n",
      "c    3\n",
      "dtype: int64\n"
     ]
    }
   ],
   "source": [
    "dict_a1=pd.Series({'a':1,'b':2,'c':3})\n",
    "print(dict_a1) \n"
   ]
  },
  {
   "cell_type": "markdown",
   "id": "b0397e11",
   "metadata": {},
   "source": [
    "Task 5: Write a program to use index no for printing an element of a Series"
   ]
  },
  {
   "cell_type": "code",
   "execution_count": 6,
   "id": "da37700e",
   "metadata": {},
   "outputs": [
    {
     "name": "stdout",
     "output_type": "stream",
     "text": [
      "a    1\n",
      "b    2\n",
      "c    3\n",
      "dtype: int64\n",
      "Now number at index 1 is:  2\n"
     ]
    }
   ],
   "source": [
    "dict_a1=pd.Series({'a':1,'b':2,'c':3})\n",
    "print(dict_a1)\n",
    "print(\"Now number at index 1 is: \",dict_a1[1]) \n"
   ]
  },
  {
   "cell_type": "markdown",
   "id": "6f92b196",
   "metadata": {},
   "source": [
    "Task 6: Write a python program to perform slicing on a Series"
   ]
  },
  {
   "cell_type": "code",
   "execution_count": 7,
   "id": "69b586c6",
   "metadata": {},
   "outputs": [
    {
     "name": "stdout",
     "output_type": "stream",
     "text": [
      "0    10\n",
      "1    34\n",
      "dtype: int64\n"
     ]
    }
   ],
   "source": [
    "import pandas as pd\n",
    "ser=pd.Series([10,34,62,38])\n",
    "s = ser[:2]\n",
    "print(s)\n"
   ]
  },
  {
   "cell_type": "markdown",
   "id": "1eb749da",
   "metadata": {},
   "source": [
    " Task 7: Write a python program to print only those elements which are > 3 from a list. And also to replace even elements of array by 10? "
   ]
  },
  {
   "cell_type": "code",
   "execution_count": 9,
   "id": "087146d1",
   "metadata": {},
   "outputs": [
    {
     "name": "stdout",
     "output_type": "stream",
     "text": [
      "2    3\n",
      "3    4\n",
      "4    5\n",
      "dtype: int64\n",
      "0     1\n",
      "1    10\n",
      "2     3\n",
      "3    10\n",
      "4     5\n",
      "dtype: int64\n"
     ]
    }
   ],
   "source": [
    "list=[1,2,3,4,5]\n",
    "s1=pd.Series(list)\n",
    "cmp = s1 [s1>=3]\n",
    "print(cmp)\n",
    "s1 [s1%2==0] = 10\n",
    "print(s1) "
   ]
  },
  {
   "cell_type": "markdown",
   "id": "d50dc2d2",
   "metadata": {},
   "source": [
    "Task 8: Write a python program to add to lists of unequal elements using pandas"
   ]
  },
  {
   "cell_type": "code",
   "execution_count": 10,
   "id": "ae6d468c",
   "metadata": {},
   "outputs": [
    {
     "name": "stdout",
     "output_type": "stream",
     "text": [
      "0    3.0\n",
      "1    5.0\n",
      "2    7.0\n",
      "3    9.0\n",
      "4    NaN\n",
      "dtype: float64\n"
     ]
    }
   ],
   "source": [
    "list=[1,2,3,4,5]\n",
    "list1=[2,3,4,5]\n",
    "s1=pd.Series(list)\n",
    "s2=pd.Series(list1)\n",
    "a=s1+s2\n",
    "print(a) \n"
   ]
  },
  {
   "cell_type": "markdown",
   "id": "a6a3dc38",
   "metadata": {},
   "source": [
    "Task 9: Write a python program to create a DataFrame through passing list? "
   ]
  },
  {
   "cell_type": "code",
   "execution_count": 12,
   "id": "350e37ea",
   "metadata": {},
   "outputs": [
    {
     "name": "stdout",
     "output_type": "stream",
     "text": [
      "   0\n",
      "0  1\n",
      "1  2\n",
      "2  3\n",
      "3  4\n"
     ]
    }
   ],
   "source": [
    "import pandas as pd\n",
    "list=[1,2,3,4]\n",
    "df1=pd.DataFrame(list)\n",
    "print(df1)\n",
    "\n"
   ]
  },
  {
   "cell_type": "markdown",
   "id": "31430df1",
   "metadata": {},
   "source": [
    "Task 10: Write a python program to create a DataFrame through passing list?"
   ]
  },
  {
   "cell_type": "code",
   "execution_count": 13,
   "id": "f6d67495",
   "metadata": {},
   "outputs": [
    {
     "name": "stdout",
     "output_type": "stream",
     "text": [
      "   0  1  2  3\n",
      "0  1  2  3  4\n",
      "1  4  5  6  7\n",
      "2  7  8  9  0\n"
     ]
    }
   ],
   "source": [
    "lists=[[1,2,3,4],[4,5,6,7],[7,8,9,0]]\n",
    "df2=pd.DataFrame(lists)\n",
    "print(df2)\n"
   ]
  },
  {
   "cell_type": "markdown",
   "id": "b0b778e0",
   "metadata": {},
   "source": [
    " Task 11: Write a python program to create a DataFrame through passing list of dictionaries"
   ]
  },
  {
   "cell_type": "code",
   "execution_count": 15,
   "id": "ef317ff6",
   "metadata": {},
   "outputs": [
    {
     "name": "stdout",
     "output_type": "stream",
     "text": [
      "    a   b   c\n",
      "0   1   2   3\n",
      "1  10  20  30\n"
     ]
    }
   ],
   "source": [
    "list_dict=[{'a':1,'b':2,'c':3},\n",
    "           {'a':10,'b':20,'c':30}]\n",
    "df4=pd.DataFrame(list_dict)\n",
    "print(df4)\n"
   ]
  },
  {
   "cell_type": "markdown",
   "id": "49a6c40a",
   "metadata": {},
   "source": [
    " Task 12: Write a python program to create a DataFrame through passing list of unequal dictionaries"
   ]
  },
  {
   "cell_type": "code",
   "execution_count": 16,
   "id": "2c18917a",
   "metadata": {},
   "outputs": [
    {
     "name": "stdout",
     "output_type": "stream",
     "text": [
      "    a   b   c     d\n",
      "0   1   2   3   NaN\n",
      "1  10  20  30  49.0\n"
     ]
    }
   ],
   "source": [
    "list_dict=[{'a':1,'b':2,'c':3},{'a':10,'b':20,'c':30,'d':49}]\n",
    "df5=pd.DataFrame(list_dict)\n",
    "print(df5)\n"
   ]
  },
  {
   "cell_type": "markdown",
   "id": "67145800",
   "metadata": {},
   "source": [
    "Write a python program to create a DataFrame through passing dictionary of series"
   ]
  },
  {
   "cell_type": "code",
   "execution_count": 17,
   "id": "652f5115",
   "metadata": {},
   "outputs": [
    {
     "name": "stdout",
     "output_type": "stream",
     "text": [
      "   st  nd\n",
      "0   1  10\n",
      "1   2  20\n",
      "2   3  30\n",
      "3   4  40\n",
      "4   5  50\n"
     ]
    }
   ],
   "source": [
    "dict_ser = {'st':pd.Series([1,2,3,4,5]),'nd':pd.Series([10,20,30,40,50])}\n",
    "df6=pd.DataFrame(dict_ser)\n",
    "print(df6)\n"
   ]
  },
  {
   "cell_type": "markdown",
   "id": "1efa8213",
   "metadata": {},
   "source": [
    "Task 14:  Write a python program to Read a CSV file?"
   ]
  },
  {
   "cell_type": "code",
   "execution_count": 18,
   "id": "bcac5bf5",
   "metadata": {},
   "outputs": [
    {
     "name": "stdout",
     "output_type": "stream",
     "text": [
      "        day  temperature  windspeed events\n",
      "0  1/1/2017           32          6   Rain\n",
      "1  1/2/2017           35          7  Sunny\n",
      "2  1/3/2017           28          2   Snow\n",
      "3  1/4/2017           24          7   Snow\n",
      "4  1/5/2017           32          4   Rain\n",
      "5  1/6/2017           31          2  Sunny\n"
     ]
    }
   ],
   "source": [
    "df= pd.read_csv(\"Weather.csv\")\n",
    "print(df)\n"
   ]
  },
  {
   "cell_type": "markdown",
   "id": "a673a3e7",
   "metadata": {},
   "source": [
    "Task 15:  Write a python program to Read given number of rows of CSV file"
   ]
  },
  {
   "cell_type": "code",
   "execution_count": 19,
   "id": "1bc16d6c",
   "metadata": {},
   "outputs": [
    {
     "name": "stdout",
     "output_type": "stream",
     "text": [
      "        day  temperature  windspeed events\n",
      "0  1/1/2017           32          6   Rain\n",
      "1  1/2/2017           35          7  Sunny\n",
      "2  1/3/2017           28          2   Snow\n"
     ]
    }
   ],
   "source": [
    "df= pd.read_csv(\"Weather.csv\",nrows=3)\n",
    "print(df)\n"
   ]
  },
  {
   "cell_type": "markdown",
   "id": "0e3f3e7a",
   "metadata": {},
   "source": [
    "Task 16: Write a python program to Read given number of columns of CSV filem"
   ]
  },
  {
   "cell_type": "code",
   "execution_count": 21,
   "id": "e7de5a70",
   "metadata": {},
   "outputs": [
    {
     "name": "stdout",
     "output_type": "stream",
     "text": [
      "   temperature  windspeed\n",
      "0           32          6\n",
      "1           35          7\n",
      "2           28          2\n",
      "3           24          7\n",
      "4           32          4\n",
      "5           31          2\n"
     ]
    }
   ],
   "source": [
    "import pandas as pd\n",
    "import pandas as pd\n",
    "df= pd.read_csv(\"Weather.csv\",usecols=[1,2])\n",
    "print(df)\n"
   ]
  },
  {
   "cell_type": "markdown",
   "id": "40b52106",
   "metadata": {},
   "source": [
    "Task 17: Write a python program to skip given number of rows of CSV file\n"
   ]
  },
  {
   "cell_type": "code",
   "execution_count": 23,
   "id": "24b4235a",
   "metadata": {},
   "outputs": [
    {
     "name": "stdout",
     "output_type": "stream",
     "text": [
      "index numbers given will be skipped:\n",
      "         day  temperature  windspeed events\n",
      "0  1/1/2017           32          6   Rain\n",
      "1  1/3/2017           28          2   Snow\n",
      "2  1/5/2017           32          4   Rain\n",
      "3  1/6/2017           31          2  Sunny\n",
      "\n",
      "\n",
      "Given number of rows will be skipped:\n",
      "    1/3/2017  28  2   Snow\n",
      "0  1/4/2017  24  7   Snow\n",
      "1  1/5/2017  32  4   Rain\n",
      "2  1/6/2017  31  2  Sunny\n"
     ]
    }
   ],
   "source": [
    "df= pd.read_csv(\"Weather.csv\",skiprows=[2,4])\n",
    "print(\"index numbers given will be skipped:\\n\",df)\n",
    "df= pd.read_csv(\"Weather.csv\",skiprows=3)\n",
    "print(\"\\n\\nGiven number of rows will be skipped:\\n\",df)\n"
   ]
  },
  {
   "cell_type": "code",
   "execution_count": 24,
   "id": "af20a2f3",
   "metadata": {},
   "outputs": [],
   "source": [
    "# Task 18: Write a python program to change header and given row number CSV file"
   ]
  },
  {
   "cell_type": "code",
   "execution_count": 25,
   "id": "ff6acc6f",
   "metadata": {},
   "outputs": [
    {
     "name": "stdout",
     "output_type": "stream",
     "text": [
      "   1/1/2017  32  6   Rain\n",
      "0  1/2/2017  35  7  Sunny\n",
      "1  1/3/2017  28  2   Snow\n",
      "2  1/4/2017  24  7   Snow\n",
      "3  1/5/2017  32  4   Rain\n",
      "4  1/6/2017  31  2  Sunny\n"
     ]
    }
   ],
   "source": [
    "df= pd.read_csv(\"Weather.csv\",header=1)\n",
    "print(df)"
   ]
  },
  {
   "cell_type": "markdown",
   "id": "f9b0462d",
   "metadata": {},
   "source": [
    "Task 19: Write a python program to change header to a special indexes string CSV file:"
   ]
  },
  {
   "cell_type": "code",
   "execution_count": 27,
   "id": "f7019707",
   "metadata": {},
   "outputs": [
    {
     "name": "stdout",
     "output_type": "stream",
     "text": [
      "    index_0      index_1    index_2 index_3\n",
      "0       day  temperature  windspeed  events\n",
      "1  1/1/2017           32          6    Rain\n",
      "2  1/2/2017           35          7   Sunny\n",
      "3  1/3/2017           28          2    Snow\n",
      "4  1/4/2017           24          7    Snow\n",
      "5  1/5/2017           32          4    Rain\n",
      "6  1/6/2017           31          2   Sunny\n"
     ]
    }
   ],
   "source": [
    "df= pd.read_csv(\"Weather.csv\",prefix='index_',header=None)\n",
    "print(df)\n"
   ]
  },
  {
   "cell_type": "markdown",
   "id": "6dfeaf81",
   "metadata": {},
   "source": [
    "Task 20: Write a python program to use head and tails methods?"
   ]
  },
  {
   "cell_type": "code",
   "execution_count": 28,
   "id": "a7e8b463",
   "metadata": {},
   "outputs": [
    {
     "name": "stdout",
     "output_type": "stream",
     "text": [
      "By default, From top first five rows are: \n",
      "          a1           a2         a3      a4\n",
      "0       day  temperature  windspeed  events\n",
      "1  1/1/2017           32          6    Rain\n",
      "2  1/2/2017           35          7   Sunny\n",
      "3  1/3/2017           28          2    Snow\n",
      "4  1/4/2017           24          7    Snow\n",
      "By default, From tail first five rows are: \n",
      "          a1  a2 a3     a4\n",
      "2  1/2/2017  35  7  Sunny\n",
      "3  1/3/2017  28  2   Snow\n",
      "4  1/4/2017  24  7   Snow\n",
      "5  1/5/2017  32  4   Rain\n",
      "6  1/6/2017  31  2  Sunny\n",
      "\n",
      "\n",
      "From top first three rows are: \n",
      "          a1           a2         a3      a4\n",
      "0       day  temperature  windspeed  events\n",
      "1  1/1/2017           32          6    Rain\n",
      "2  1/2/2017           35          7   Sunny\n",
      "From tail first three rows are: \n",
      "          a1  a2 a3     a4\n",
      "4  1/4/2017  24  7   Snow\n",
      "5  1/5/2017  32  4   Rain\n",
      "6  1/6/2017  31  2  Sunny\n"
     ]
    }
   ],
   "source": [
    "df=pd.read_csv(\"Weather.csv\",names=['a1','a2','a3','a4'],header=None)\n",
    "print(\"By default, From top first five rows are: \\n\",df.head())\n",
    "print(\"By default, From tail first five rows are: \\n\",df.tail())\n",
    "print(\"\\n\\nFrom top first three rows are: \\n\",df.head(3))\n",
    "print(\"From tail first three rows are: \\n\",df.tail(3))\n"
   ]
  },
  {
   "cell_type": "code",
   "execution_count": null,
   "id": "056f13c4",
   "metadata": {},
   "outputs": [],
   "source": []
  }
 ],
 "metadata": {
  "kernelspec": {
   "display_name": "Python 3 (ipykernel)",
   "language": "python",
   "name": "python3"
  },
  "language_info": {
   "codemirror_mode": {
    "name": "ipython",
    "version": 3
   },
   "file_extension": ".py",
   "mimetype": "text/x-python",
   "name": "python",
   "nbconvert_exporter": "python",
   "pygments_lexer": "ipython3",
   "version": "3.9.7"
  },
  "varInspector": {
   "cols": {
    "lenName": 16,
    "lenType": 16,
    "lenVar": 40
   },
   "kernels_config": {
    "python": {
     "delete_cmd_postfix": "",
     "delete_cmd_prefix": "del ",
     "library": "var_list.py",
     "varRefreshCmd": "print(var_dic_list())"
    },
    "r": {
     "delete_cmd_postfix": ") ",
     "delete_cmd_prefix": "rm(",
     "library": "var_list.r",
     "varRefreshCmd": "cat(var_dic_list()) "
    }
   },
   "types_to_exclude": [
    "module",
    "function",
    "builtin_function_or_method",
    "instance",
    "_Feature"
   ],
   "window_display": false
  }
 },
 "nbformat": 4,
 "nbformat_minor": 5
}
